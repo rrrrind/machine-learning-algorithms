{
 "cells": [
  {
   "cell_type": "markdown",
   "metadata": {},
   "source": [
    "# 概要"
   ]
  },
  {
   "cell_type": "markdown",
   "metadata": {},
   "source": [
    "今回は，[ワインのデータセット](https://scikit-learn.org/stable/modules/generated/sklearn.datasets.load_wine.html)(特徴量13個)に対し主成分分析を行うことで，特徴量を2次元まで削減し，特徴量空間の可視化を行う． "
   ]
  },
  {
   "cell_type": "markdown",
   "metadata": {},
   "source": [
    "# ライブラリのインポート"
   ]
  },
  {
   "cell_type": "code",
   "execution_count": 6,
   "metadata": {},
   "outputs": [],
   "source": [
    "import numpy as np\n",
    "import matplotlib.pyplot as plt\n",
    "from sklearn.datasets import load_wine\n",
    "from sklearn.model_selection import train_test_split"
   ]
  },
  {
   "cell_type": "markdown",
   "metadata": {},
   "source": [
    "# データセットの用意"
   ]
  },
  {
   "cell_type": "markdown",
   "metadata": {},
   "source": [
    "## データの読み込み"
   ]
  },
  {
   "cell_type": "markdown",
   "metadata": {},
   "source": [
    "datasetの詳細は[こちら](https://scikit-learn.org/stable/modules/generated/sklearn.datasets.load_wine.html)．"
   ]
  },
  {
   "cell_type": "code",
   "execution_count": 41,
   "metadata": {},
   "outputs": [],
   "source": [
    "wine = load_wine()"
   ]
  },
  {
   "cell_type": "code",
   "execution_count": 42,
   "metadata": {},
   "outputs": [],
   "source": [
    "inputs = wine.data\n",
    "targets = wine.target\n",
    "feature_names = wine.feature_names\n",
    "target_names = wine.target_names"
   ]
  },
  {
   "cell_type": "code",
   "execution_count": 43,
   "metadata": {},
   "outputs": [
    {
     "name": "stdout",
     "output_type": "stream",
     "text": [
      "features : ['alcohol', 'malic_acid', 'ash', 'alcalinity_of_ash', 'magnesium', 'total_phenols', 'flavanoids', 'nonflavanoid_phenols', 'proanthocyanins', 'color_intensity', 'hue', 'od280/od315_of_diluted_wines', 'proline']\n",
      "targets  : ['class_0' 'class_1' 'class_2']\n"
     ]
    }
   ],
   "source": [
    "print(\"features : {}\".format(feature_names))\n",
    "print(\"targets  : {}\".format(target_names))"
   ]
  },
  {
   "cell_type": "markdown",
   "metadata": {},
   "source": [
    "# 主成分分析(Principal Component Analysis; PCA)の実装"
   ]
  },
  {
   "cell_type": "markdown",
   "metadata": {},
   "source": [
    "主成分分析とは，<u>多数の要因を1つ1つ独立に扱うのではなく，要因をまとめて考えることを試みる分析手法</u>である．例えば，社会人の年齢や収入，購買意欲などなど様々な要因が存在した場合に，主成分分析を用いることで様々な要因をひとまとめにすることが可能になるので，『収入が多く購買意欲も高い社会人』など複数の要因を組み合わせて一つのカテゴリとして扱うことが可能となる．また，複数の要因(特徴量)をまとめて考えることで，多数の次元を縮小することが可能となる．  \n",
    "主成分分析を行う方法として，『分散共分散行列』を用いる方法と『相関係数行列』を用いる2つの方法が存在が，今回は **『相関係数行列』** を用いた主成分分析の実装を行う．理由として，『分散共分散行列』を用いた主成分分析では，各特徴量のスケールが異なる(例えばグラムgと長さkmなどの)場合，各単位の影響を受けてしまうため，標準化などの前処理を行わなければならないからである．今回はあくまで主成分分析の実装を行うことがメインのため，面倒臭い前処理のない『相関係数行列』を用いた主成分分析の実装を行う．ただし，実装はしないが『分散共分散行列』を用いる方法の解説も一応行うこととする．"
   ]
  },
  {
   "cell_type": "markdown",
   "metadata": {},
   "source": [
    "## 『分散共分散行列』を用いた主成分分析の理論"
   ]
  },
  {
   "cell_type": "code",
   "execution_count": null,
   "metadata": {},
   "outputs": [],
   "source": []
  },
  {
   "cell_type": "markdown",
   "metadata": {},
   "source": [
    "## 『相関係数行列』を用いた主成分分析の理論"
   ]
  },
  {
   "cell_type": "code",
   "execution_count": null,
   "metadata": {},
   "outputs": [],
   "source": []
  },
  {
   "cell_type": "markdown",
   "metadata": {},
   "source": [
    "# 参考文献"
   ]
  },
  {
   "cell_type": "markdown",
   "metadata": {},
   "source": [
    "- [主成分分析の考え方](https://logics-of-blue.com/principal-components-analysis/)\n",
    "- [PCA(主成分分析)を理解する(理論編)](https://qiita.com/g-k/items/893e4e836ae493b03c47)\n",
    "- [データ分析実践 第7回 主成分分析](http://www-is.amp.i.kyoto-u.ac.jp/data/sekido/20161128.pdf)"
   ]
  },
  {
   "cell_type": "code",
   "execution_count": null,
   "metadata": {},
   "outputs": [],
   "source": []
  }
 ],
 "metadata": {
  "kernelspec": {
   "display_name": "Python 3",
   "language": "python",
   "name": "python3"
  },
  "language_info": {
   "codemirror_mode": {
    "name": "ipython",
    "version": 3
   },
   "file_extension": ".py",
   "mimetype": "text/x-python",
   "name": "python",
   "nbconvert_exporter": "python",
   "pygments_lexer": "ipython3",
   "version": "3.6.9"
  }
 },
 "nbformat": 4,
 "nbformat_minor": 4
}
