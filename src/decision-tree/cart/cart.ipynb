{
 "cells": [
  {
   "cell_type": "code",
   "execution_count": 125,
   "metadata": {},
   "outputs": [],
   "source": [
    "import numpy as np\n",
    "import matplotlib.pyplot as plt\n",
    "from sklearn.datasets import load_wine\n",
    "from sklearn.model_selection import train_test_split"
   ]
  },
  {
   "cell_type": "markdown",
   "metadata": {},
   "source": [
    "# データの準備"
   ]
  },
  {
   "cell_type": "markdown",
   "metadata": {},
   "source": [
    "## データの読み込み"
   ]
  },
  {
   "cell_type": "markdown",
   "metadata": {},
   "source": [
    "datasetの使い方は[こちら](https://scikit-learn.org/stable/modules/generated/sklearn.datasets.load_wine.html)"
   ]
  },
  {
   "cell_type": "code",
   "execution_count": 2,
   "metadata": {},
   "outputs": [],
   "source": [
    "wine = load_wine()"
   ]
  },
  {
   "cell_type": "code",
   "execution_count": 3,
   "metadata": {},
   "outputs": [],
   "source": [
    "inputs = wine.data\n",
    "targets = wine.target\n",
    "feature_names = wine.feature_names\n",
    "target_names  = wine.target_names"
   ]
  },
  {
   "cell_type": "code",
   "execution_count": 4,
   "metadata": {},
   "outputs": [
    {
     "name": "stdout",
     "output_type": "stream",
     "text": [
      "説明変数：['alcohol', 'malic_acid', 'ash', 'alcalinity_of_ash', 'magnesium', 'total_phenols', 'flavanoids', 'nonflavanoid_phenols', 'proanthocyanins', 'color_intensity', 'hue', 'od280/od315_of_diluted_wines', 'proline']\n",
      "目的変数：['class_0' 'class_1' 'class_2']\n"
     ]
    }
   ],
   "source": [
    "print(\"説明変数：{}\".format(feature_names))\n",
    "print(\"目的変数：{}\".format(target_names))"
   ]
  },
  {
   "cell_type": "markdown",
   "metadata": {},
   "source": [
    "## trainとtestに分ける"
   ]
  },
  {
   "cell_type": "markdown",
   "metadata": {},
   "source": [
    "train_test_splitの使い方は[こちら](https://docs.pyq.jp/python/machine_learning/tips/train_test_split.html)"
   ]
  },
  {
   "cell_type": "code",
   "execution_count": 5,
   "metadata": {},
   "outputs": [],
   "source": [
    "# データセットを訓練データとテストデータに分ける\n",
    "X_train, X_test, y_train, y_test = \\\n",
    "train_test_split(wine.data, wine.target, test_size=0.2)"
   ]
  },
  {
   "cell_type": "markdown",
   "metadata": {},
   "source": [
    "# CARTの実装"
   ]
  },
  {
   "cell_type": "markdown",
   "metadata": {},
   "source": [
    "## 特徴量と条件分岐の閾値の決定"
   ]
  },
  {
   "cell_type": "markdown",
   "metadata": {},
   "source": [
    "### Gini係数の算出"
   ]
  },
  {
   "cell_type": "markdown",
   "metadata": {},
   "source": [
    "決定木は『不純度』を用いることで分岐条件や特徴量を選択する．\n",
    "不純度とは，ノード分岐の条件や選択した特徴量(説明変数)によって，ノードに分岐したサンプルのクラスがどれだけ散らばるかを表す指標の1つである．\n",
    "分岐した際に，クラスがばらけることなく，あるノードに1種類のクラスだけが分類された場合(きれいに分割できた場合)，**そのノードの不純度は0となる**．\n",
    "不純度を算出する方法は『交差エントロピー』と『Gini係数』があり，CARTの場合は『Gini係数』を用いることで不純度の計算を行う．\n",
    "Gini係数は，ノード$t$におけるクラス$C_{i}$の割合を$P^{2}(C_{i}|t)$とすると，\n",
    "$$\n",
    "1 - \\sum_{i=1}^{K}P^{2}(C_{i}|t),\n",
    "$$\n",
    "で算出することができる．\n",
    "Gini係数は，ある条件に対して\"Yes\"と\"No\"の，2つ場合に対して求める必要がある(後にGini不純度を計算する必要があるため)．\n",
    "詳しくは[こちら](https://hktech.hatenablog.com/entry/2018/10/05/004235)．"
   ]
  },
  {
   "cell_type": "markdown",
   "metadata": {},
   "source": [
    "### Gini不純度の算出"
   ]
  },
  {
   "cell_type": "markdown",
   "metadata": {},
   "source": [
    "Gini不純度とは，分岐条件毎に算出していた『Gini係数』を用いることで，その分岐条件自体を評価するための指標である．Gini不純度を用いることで，その特徴量における最も分類精度が高い分岐条件を求めることができるので，全特徴量のGini不純度を比較することで，分岐条件だけでなく分類精度が最も高くなる特徴量を選出することも可能となる．ある特徴量における分岐条件のGini不純度は，ノードの集合を$\\{\\mathrm{yes},\\mathrm{no}\\}$，1つ前のノードのデータ数を$A$，各ノードのデータ数を$a$とすると，\n",
    "$$\n",
    "\\sum_{n \\in \\{\\mathrm{yes},\\mathrm{no}\\}}\\frac{a_n}{A} \\times \\mathrm{Gini}(n),\n",
    "$$\n",
    "で算出することができる．ここで$\\mathrm{Gini}(n)$とは，yes or no のノードのGini係数である．"
   ]
  },
  {
   "cell_type": "markdown",
   "metadata": {},
   "source": [
    "### 利得(gain)の算出"
   ]
  },
  {
   "cell_type": "markdown",
   "metadata": {},
   "source": [
    "利得(gain)とは，分岐前のGini不純度から分岐後のGini不純度を引いた値である．これは分岐後のGini不純度が大きく下がっていれば，それだけその分岐が有効であったことがわかるので，利得が大きければ大きいほどその分岐が重要だということが示される．また各特徴量の分岐の利得を比較すれば，最適な特徴量空間を選出することも可能となる．本来であれば利得を用いて特徴量と閾値を算出すべきだが，今回は利得ではなく各特徴量のGini不純度を比較することでそれらを選出する．"
   ]
  },
  {
   "cell_type": "code",
   "execution_count": 113,
   "metadata": {},
   "outputs": [],
   "source": [
    "class GiniImpurity(object):\n",
    "    \"\"\"\n",
    "    これは，run()を実行すると\"Gini不純度が最も低かった特徴量のindex\"と\"その時の閾値\"を渡してくれるクラスである．\n",
    "    今回はワインのデータセットを用いているが，入力データやターゲットを変えていただければ\n",
    "    irisデータセットなどでも適用することが可能である．\n",
    "    \"\"\"\n",
    "    def __init__(self):\n",
    "        self.inputs = None\n",
    "        self.targets = None\n",
    "        self.feature_names = None\n",
    "        self.target_names = None\n",
    "\n",
    "        self.gini = None\n",
    "        self.node = None\n",
    "        self.yes_num = None\n",
    "        self.no_num = None\n",
    "        \n",
    "        self.impurity = None\n",
    "        \n",
    "        self.min_imp = None\n",
    "        self.threshold = None\n",
    "        \n",
    "    \n",
    "    def calc_gini(self,input_1d):\n",
    "        \"\"\"\n",
    "        ある特徴量に対する全データのGini係数を算出する(2.1参照)．\n",
    "        \n",
    "        Parameters\n",
    "        -------------------------------------------\n",
    "        input_1d : ndarray\n",
    "            ある特徴量における現在いるノードの全データである\n",
    "        -------------------------------------------\n",
    "        \"\"\"\n",
    "        self.gini = np.zeros((len(input_1d),2))\n",
    "        \n",
    "        for i, data in enumerate(input_1d):\n",
    "            branch = input_1d > data\n",
    "            self.node = np.zeros(2)\n",
    "            self.yes_num = np.sum(branch)\n",
    "            self.no_num  = np.sum(np.logical_not(branch))\n",
    "                        \n",
    "            for c in range(len(self.target_names)):\n",
    "                self.node[0] += np.square(np.sum(self.targets[branch]==c) / (self.yes_num + 1e-8))\n",
    "                self.node[1] += np.square(np.sum(self.targets[np.logical_not(branch)]==c) /\n",
    "                                          self.no_num + 1e-8)\n",
    "            for j in range(2):\n",
    "                self.gini[i,j] = 1 - self.node[j]\n",
    "    \n",
    "    \n",
    "    def calc_impurity(self,input_1d):\n",
    "        \"\"\"\n",
    "        ある特徴量に対する全データのGini係数から，\n",
    "        分岐の良し悪しを評価するGini不純度を算出し，最小のGini不純度を獲得する(2.2参照)．\n",
    "        最小のGini不純度を獲得することで，最適な分岐条件と特徴量を決定することが可能となる(2.3参照)．\n",
    "        \n",
    "        Parameters\n",
    "        -------------------------------------------\n",
    "        input_1d : ndarray\n",
    "            ある特徴量における現在いるノードの全データである\n",
    "        -------------------------------------------\n",
    "        \"\"\"\n",
    "        self.calc_gini(input_1d)\n",
    "        \n",
    "        self.impurity = np.zeros(len(self.gini))\n",
    "        self.impurity = self.gini[:,0] * (self.yes_num / (self.yes_num + self.no_num)) + \\\n",
    "                    self.gini[:,1] * (self.no_num  / (self.yes_num + self.no_num))\n",
    "       \n",
    "    \n",
    "    def selc_impurity(self):\n",
    "        \"\"\"\n",
    "        ある特徴量での，Gini不純度が最も小さい時の値とそのindexを返す．\n",
    "        \n",
    "        Returns\n",
    "        -------------------------------------------\n",
    "        np.min(self.impurity) : int\n",
    "            ある特徴量における入力された全データの中でGini不純度が最も小さい時の値．\n",
    "        np.argmin(self.impurity) : int\n",
    "            ある特徴量における入力された全データの中でGini不純度が最も小さい時のindex．\n",
    "        -------------------------------------------\n",
    "        \"\"\"\n",
    "        return np.min(self.impurity), np.argmin(self.impurity)\n",
    "    \n",
    "    \n",
    "    def selc_feature(self):\n",
    "        \"\"\"\n",
    "        全特徴量のGini不純度を計算し比較することで，\n",
    "        クラスが最も綺麗に分かれる特徴量と分岐の閾値を獲得する(2.3参照)．\n",
    "        \n",
    "        Returns\n",
    "        -------------------------------------------\n",
    "        np.argmin(self.min_imp) : int\n",
    "            全特徴量の中でGini不純度が最も小さい特徴量のindex．\n",
    "        self.threshold : float\n",
    "            全特徴量の中でGini不純度が最も小さい特徴量の閾値．\n",
    "        -------------------------------------------\n",
    "        \"\"\"\n",
    "        self.min_imp = np.zeros((len(self.inputs[0]),2))\n",
    "        self.threshold = 0\n",
    "        \n",
    "        for i in range(len(self.inputs[0])):\n",
    "            self.calc_impurity(self.inputs[:,i])\n",
    "            self.min_imp[i,0], self.min_imp[i,1] = self.selc_impurity()\n",
    "        \n",
    "        self.threshold = self.inputs[self.min_imp[np.argmin(self.min_imp[:,0]),1].astype('int64'), \\\n",
    "                                     np.argmin(self.min_imp[:,0])]\n",
    "        \n",
    "        return np.argmin(self.min_imp[:,0]), self.threshold\n",
    "            \n",
    "        \n",
    "    \n",
    "    def run(self,inputs,targets,feature_names,target_names):\n",
    "        \"\"\"\n",
    "        Gini係数とGini不純度の計算を行う．\n",
    "        最終的に，クラスが最も綺麗に分かれる特徴量と分岐の閾値を獲得する．\n",
    "\n",
    "        Parameters\n",
    "        -------------------------------------------\n",
    "        inputs : ndarray\n",
    "            全特徴量におけるデータの総数．\n",
    "            ワインでは，1回目は[178,13]のリストが入るが，\n",
    "            2回目以降はそのノードにおけるデータの総数となる．\n",
    "        targets : ndarray\n",
    "            全特徴量における教師ラベル．\n",
    "            ワインでは，1回目は178のサイズだが，\n",
    "            2回目以降はそのノードにおけるデータの総数がサイズとなる．\n",
    "        feature_names : list\n",
    "            特徴量の名前.\n",
    "            ワインでは[13,0]のリストを代入する\n",
    "        target_names : ndarray\n",
    "            クラスの名前．\n",
    "            ワインでは[3,0]のリストを代入する\n",
    "        -------------------------------------------\n",
    "        \n",
    "        Returns\n",
    "        -------------------------------------------\n",
    "        self.selc_feature() : int, float\n",
    "            全特徴量の中で最もGini不純度が小さい特徴量のindexとその特徴量の分岐の閾値．\n",
    "        -------------------------------------------\n",
    "        \"\"\"\n",
    "        self.inputs = inputs\n",
    "        self.targets = targets\n",
    "        self.feature_names = feature_names\n",
    "        self.target_names = target_names\n",
    "                \n",
    "        return self.selc_feature()\n",
    "        "
   ]
  },
  {
   "cell_type": "code",
   "execution_count": 126,
   "metadata": {},
   "outputs": [
    {
     "name": "stdout",
     "output_type": "stream",
     "text": [
      "最適な特徴量 : ash\n",
      "分岐点の閾値 : 1.36\n"
     ]
    }
   ],
   "source": [
    "# 動くか実験\n",
    "a = GiniImpurity()\n",
    "b, c = a.run(inputs,targets,feature_names,target_names)\n",
    "print(\"最適な特徴量 : {}\".format(feature_names[b]))\n",
    "print(\"分岐点の閾値 : {}\".format(c))"
   ]
  },
  {
   "cell_type": "code",
   "execution_count": 127,
   "metadata": {},
   "outputs": [
    {
     "data": {
      "text/plain": [
       "array([2.43, 2.14, 2.67, 2.5 , 2.87, 2.45, 2.45, 2.61, 2.17, 2.27, 2.3 ,\n",
       "       2.32, 2.41, 2.39, 2.38, 2.7 , 2.72, 2.62, 2.48, 2.56, 2.28, 2.65,\n",
       "       2.36, 2.52, 2.61, 3.22, 2.62, 2.14, 2.8 , 2.21, 2.7 , 2.36, 2.36,\n",
       "       2.7 , 2.65, 2.41, 2.84, 2.55, 2.1 , 2.51, 2.31, 2.12, 2.59, 2.29,\n",
       "       2.1 , 2.44, 2.28, 2.12, 2.4 , 2.27, 2.04, 2.6 , 2.42, 2.68, 2.25,\n",
       "       2.46, 2.3 , 2.68, 2.5 , 1.36, 2.28, 2.02, 1.92, 2.16, 2.53, 2.56,\n",
       "       1.7 , 1.92, 2.36, 1.75, 2.21, 2.67, 2.24, 2.6 , 2.3 , 1.92, 1.71,\n",
       "       2.23, 1.95, 2.4 , 2.  , 2.2 , 2.51, 2.32, 2.58, 2.24, 2.31, 2.62,\n",
       "       2.46, 2.3 , 2.32, 2.42, 2.26, 2.22, 2.28, 2.2 , 2.74, 1.98, 2.1 ,\n",
       "       2.21, 1.7 , 1.9 , 2.46, 1.88, 1.98, 2.27, 2.12, 2.28, 1.94, 2.7 ,\n",
       "       1.82, 2.17, 2.92, 2.5 , 2.5 , 2.2 , 1.99, 2.19, 1.98, 2.  , 2.42,\n",
       "       3.23, 2.73, 2.13, 2.39, 2.17, 2.29, 2.78, 2.3 , 2.38, 2.32, 2.4 ,\n",
       "       2.4 , 2.36, 2.25, 2.2 , 2.54, 2.64, 2.19, 2.61, 2.7 , 2.35, 2.72,\n",
       "       2.35, 2.2 , 2.15, 2.23, 2.48, 2.38, 2.36, 2.62, 2.48, 2.75, 2.28,\n",
       "       2.1 , 2.32, 2.38, 2.64, 2.7 , 2.64, 2.38, 2.54, 2.58, 2.35, 2.3 ,\n",
       "       2.26, 2.6 , 2.3 , 2.69, 2.86, 2.32, 2.28, 2.48, 2.45, 2.48, 2.26,\n",
       "       2.37, 2.74])"
      ]
     },
     "execution_count": 127,
     "metadata": {},
     "output_type": "execute_result"
    }
   ],
   "source": [
    "inputs[:,b]"
   ]
  },
  {
   "cell_type": "code",
   "execution_count": 117,
   "metadata": {},
   "outputs": [],
   "source": [
    "input_1d = inputs[:,b]\n",
    "gini = np.zeros((len(input_1d),2))\n",
    "\n",
    "for i, data in enumerate(input_1d):\n",
    "    branch = input_1d > data\n",
    "    node = np.zeros(2)\n",
    "    yes_num = np.sum(branch)\n",
    "    no_num  = np.sum(np.logical_not(branch))\n",
    "    if i == 1000:\n",
    "        print(\"data : {}\".format(data))\n",
    "        print(\"branch : {}\".format(branch))\n",
    "        print(\"yes_num : {}\".format(yes_num))\n",
    "        print(\"no_num : {}\".format(no_num))\n",
    "        print(\"targets[branch] : {}\".format(targets[branch]))\n",
    "        print(\"targets[branch]==0 : {}\".format(targets[branch]==0))\n",
    "        print(\"np.sum(targets[branch]==0) : {}\".format(np.sum(targets[branch]==2)))\n",
    "                        \n",
    "    for c in range(len(target_names)):\n",
    "        node[0] += np.square(np.sum(targets[branch]==c) / (yes_num + 1e-8))\n",
    "        node[1] += np.square(np.sum(targets[np.logical_not(branch)]==c) / (no_num + 1e-8))\n",
    "    \n",
    "    if i == 1000:\n",
    "        print(\"node[0] : {}\".format(node[0]))\n",
    "        print(\"node[1] : {}\".format(node[1]))\n",
    "        \n",
    "    for j in range(2):\n",
    "        gini[i,j] = 1 - node[j]"
   ]
  },
  {
   "cell_type": "code",
   "execution_count": 118,
   "metadata": {},
   "outputs": [
    {
     "name": "stdout",
     "output_type": "stream",
     "text": [
      "[[6.47491350e-01 6.29256198e-01]\n",
      " [6.66018789e-01 3.97502602e-01]\n",
      " [6.50283554e-01 6.54235172e-01]\n",
      " [6.47189349e-01 6.41975309e-01]\n",
      " [4.44444448e-01 6.59461225e-01]\n",
      " [6.53808594e-01 6.36503540e-01]\n",
      " [6.53808594e-01 6.36503540e-01]\n",
      " [6.45328720e-01 6.49209105e-01]\n",
      " [6.65641738e-01 4.25925926e-01]\n",
      " [6.59699174e-01 5.20540075e-01]\n",
      " [6.54538599e-01 5.58577778e-01]\n",
      " [6.50637119e-01 5.75990710e-01]\n",
      " [6.47762346e-01 6.29583482e-01]\n",
      " [6.45956608e-01 6.19800000e-01]\n",
      " [6.45937500e-01 6.19533528e-01]\n",
      " [6.63265307e-01 6.57644259e-01]\n",
      " [6.52777778e-01 6.58658731e-01]\n",
      " [6.46666667e-01 6.50474799e-01]\n",
      " [6.47321429e-01 6.42837947e-01]\n",
      " [6.44672796e-01 6.44609054e-01]\n",
      " [6.57684949e-01 5.41322314e-01]\n",
      " [6.49600000e-01 6.54790892e-01]\n",
      " [6.50892374e-01 6.07041588e-01]\n",
      " [6.49729280e-01 6.42509465e-01]\n",
      " [6.45328720e-01 6.49209105e-01]\n",
      " [1.99999995e-08 6.58942194e-01]\n",
      " [6.46666667e-01 6.50474799e-01]\n",
      " [6.66018789e-01 3.97502602e-01]\n",
      " [6.11111112e-01 6.58396431e-01]\n",
      " [6.63108356e-01 4.65973535e-01]\n",
      " [6.63265307e-01 6.57644259e-01]\n",
      " [6.50892374e-01 6.07041588e-01]\n",
      " [6.50892374e-01 6.07041588e-01]\n",
      " [6.63265307e-01 6.57644259e-01]\n",
      " [6.49600000e-01 6.54790892e-01]\n",
      " [6.47762346e-01 6.29583482e-01]\n",
      " [6.40000001e-01 6.58558589e-01]\n",
      " [6.45925926e-01 6.45146701e-01]\n",
      " [6.64872485e-01 2.78400001e-01]\n",
      " [6.46400000e-01 6.41479492e-01]\n",
      " [6.53857465e-01 5.59959521e-01]\n",
      " [6.65511111e-01 3.49489796e-01]\n",
      " [6.41250000e-01 6.45557656e-01]\n",
      " [6.57355372e-01 5.43685121e-01]\n",
      " [6.64872485e-01 2.78400001e-01]\n",
      " [6.50033415e-01 6.31117604e-01]\n",
      " [6.57684949e-01 5.41322314e-01]\n",
      " [6.65511111e-01 3.49489796e-01]\n",
      " [6.42439737e-01 6.24815089e-01]\n",
      " [6.59699174e-01 5.20540075e-01]\n",
      " [6.64530001e-01 9.07029487e-02]\n",
      " [6.36961286e-01 6.46446356e-01]\n",
      " [6.44822516e-01 6.27219931e-01]\n",
      " [6.62131520e-01 6.54874437e-01]\n",
      " [6.60352000e-01 4.85582058e-01]\n",
      " [6.50362806e-01 6.34085762e-01]\n",
      " [6.54538599e-01 5.58577778e-01]\n",
      " [6.62131520e-01 6.54874437e-01]\n",
      " [6.47189349e-01 6.41975309e-01]\n",
      " [6.58942194e-01 1.99999995e-08]\n",
      " [6.57684949e-01 5.41322314e-01]\n",
      " [6.64076270e-01 1.00000008e-09]\n",
      " [6.63487397e-01 1.81818205e-09]\n",
      " [6.65683710e-01 4.22405877e-01]\n",
      " [6.44965278e-01 6.40946746e-01]\n",
      " [6.44672796e-01 6.44609054e-01]\n",
      " [6.60114286e-01 6.66666655e-09]\n",
      " [6.63487397e-01 1.81818205e-09]\n",
      " [6.50892374e-01 6.07041588e-01]\n",
      " [6.61164757e-01 3.99999989e-09]\n",
      " [6.63108356e-01 4.65973535e-01]\n",
      " [6.50283554e-01 6.54235172e-01]\n",
      " [6.59681319e-01 4.56747405e-01]\n",
      " [6.36961286e-01 6.46446356e-01]\n",
      " [6.54538599e-01 5.58577778e-01]\n",
      " [6.63487397e-01 1.81818205e-09]\n",
      " [6.60655305e-01 4.99999997e-09]\n",
      " [6.61498708e-01 4.69804248e-01]\n",
      " [6.63948577e-01 1.53846158e-09]\n",
      " [6.42439737e-01 6.24815089e-01]\n",
      " [6.64214232e-01 1.05263176e-09]\n",
      " [6.63593964e-01 4.65116279e-01]\n",
      " [6.46400000e-01 6.41479492e-01]\n",
      " [6.50637119e-01 5.75990710e-01]\n",
      " [6.36525878e-01 6.44680058e-01]\n",
      " [6.59681319e-01 4.56747405e-01]\n",
      " [6.53857465e-01 5.59959521e-01]\n",
      " [6.46666667e-01 6.50474799e-01]\n",
      " [6.50362806e-01 6.34085762e-01]\n",
      " [6.54538599e-01 5.58577778e-01]\n",
      " [6.50637119e-01 5.75990710e-01]\n",
      " [6.44822516e-01 6.27219931e-01]\n",
      " [6.58828272e-01 5.05739796e-01]\n",
      " [6.62432259e-01 4.59031236e-01]\n",
      " [6.57684949e-01 5.41322314e-01]\n",
      " [6.63593964e-01 4.65116279e-01]\n",
      " [6.41975309e-01 6.58100207e-01]\n",
      " [6.64304222e-01 1.25000010e-09]\n",
      " [6.64872485e-01 2.78400001e-01]\n",
      " [6.63108356e-01 4.65973535e-01]\n",
      " [6.60114286e-01 6.66666655e-09]\n",
      " [6.62491350e-01 2.50000021e-09]\n",
      " [6.50362806e-01 6.34085762e-01]\n",
      " [6.62084060e-01 2.85714274e-09]\n",
      " [6.64304222e-01 1.25000010e-09]\n",
      " [6.59699174e-01 5.20540075e-01]\n",
      " [6.65511111e-01 3.49489796e-01]\n",
      " [6.57684949e-01 5.41322314e-01]\n",
      " [6.63739295e-01 1.66666680e-09]\n",
      " [6.63265307e-01 6.57644259e-01]\n",
      " [6.61641428e-01 3.33333339e-09]\n",
      " [6.65641738e-01 4.25925926e-01]\n",
      " [5.00000005e-01 6.58832645e-01]\n",
      " [6.47189349e-01 6.41975309e-01]\n",
      " [6.47189349e-01 6.41975309e-01]\n",
      " [6.63593964e-01 4.65116279e-01]\n",
      " [6.64326222e-01 1.17647070e-09]\n",
      " [6.65204082e-01 4.44598338e-01]\n",
      " [6.64304222e-01 1.25000010e-09]\n",
      " [6.64214232e-01 1.05263176e-09]\n",
      " [6.44822516e-01 6.27219931e-01]\n",
      " [1.00000000e+00 6.58313344e-01]\n",
      " [6.61157025e-01 6.57965506e-01]\n",
      " [6.65375434e-01 3.40071344e-01]\n",
      " [6.45956608e-01 6.19800000e-01]\n",
      " [6.65641738e-01 4.25925926e-01]\n",
      " [6.57355372e-01 5.43685121e-01]\n",
      " [5.71428573e-01 6.58185425e-01]\n",
      " [6.54538599e-01 5.58577778e-01]\n",
      " [6.45937500e-01 6.19533528e-01]\n",
      " [6.50637119e-01 5.75990710e-01]\n",
      " [6.42439737e-01 6.24815089e-01]\n",
      " [6.42439737e-01 6.24815089e-01]\n",
      " [6.50892374e-01 6.07041588e-01]\n",
      " [6.60352000e-01 4.85582058e-01]\n",
      " [6.63593964e-01 4.65116279e-01]\n",
      " [6.41776938e-01 6.44168962e-01]\n",
      " [6.33744856e-01 6.53830972e-01]\n",
      " [6.65204082e-01 4.44598338e-01]\n",
      " [6.45328720e-01 6.49209105e-01]\n",
      " [6.63265307e-01 6.57644259e-01]\n",
      " [6.49102079e-01 5.90859924e-01]\n",
      " [6.52777778e-01 6.58658731e-01]\n",
      " [6.49102079e-01 5.90859924e-01]\n",
      " [6.63593964e-01 4.65116279e-01]\n",
      " [6.65790955e-01 4.31640625e-01]\n",
      " [6.61498708e-01 4.69804248e-01]\n",
      " [6.47321429e-01 6.42837947e-01]\n",
      " [6.45937500e-01 6.19533528e-01]\n",
      " [6.50892374e-01 6.07041588e-01]\n",
      " [6.46666667e-01 6.50474799e-01]\n",
      " [6.47321429e-01 6.42837947e-01]\n",
      " [5.93750001e-01 6.58892734e-01]\n",
      " [6.57684949e-01 5.41322314e-01]\n",
      " [6.64872485e-01 2.78400001e-01]\n",
      " [6.50637119e-01 5.75990710e-01]\n",
      " [6.45937500e-01 6.19533528e-01]\n",
      " [6.33744856e-01 6.53830972e-01]\n",
      " [6.63265307e-01 6.57644259e-01]\n",
      " [6.33744856e-01 6.53830972e-01]\n",
      " [6.45937500e-01 6.19533528e-01]\n",
      " [6.41776938e-01 6.44168962e-01]\n",
      " [6.36525878e-01 6.44680058e-01]\n",
      " [6.49102079e-01 5.90859924e-01]\n",
      " [6.54538599e-01 5.58577778e-01]\n",
      " [6.58828272e-01 5.05739796e-01]\n",
      " [6.36961286e-01 6.46446356e-01]\n",
      " [6.54538599e-01 5.58577778e-01]\n",
      " [6.60000000e-01 6.55904503e-01]\n",
      " [5.00000002e-01 6.59334126e-01]\n",
      " [6.50637119e-01 5.75990710e-01]\n",
      " [6.57684949e-01 5.41322314e-01]\n",
      " [6.47321429e-01 6.42837947e-01]\n",
      " [6.53808594e-01 6.36503540e-01]\n",
      " [6.47321429e-01 6.42837947e-01]\n",
      " [6.58828272e-01 5.05739796e-01]\n",
      " [6.49965398e-01 6.10475200e-01]\n",
      " [6.41975309e-01 6.58100207e-01]]\n"
     ]
    }
   ],
   "source": [
    "print(gini)"
   ]
  },
  {
   "cell_type": "markdown",
   "metadata": {},
   "source": [
    "## 木の構造"
   ]
  },
  {
   "cell_type": "markdown",
   "metadata": {},
   "source": [
    "# 参考文献"
   ]
  },
  {
   "cell_type": "markdown",
   "metadata": {},
   "source": [
    "- [sklearn.datasets.load_wine](https://scikit-learn.org/stable/modules/generated/sklearn.datasets.load_wine.html)\n",
    "- [train_test_split関数でデータ分割](https://docs.pyq.jp/python/machine_learning/tips/train_test_split.html)\n",
    "- [Pythonで決定木分類器をフルスクラッチで実装してみた](https://hktech.hatenablog.com/entry/2018/10/05/004235)\n",
    "- [[入門]初心者の初心者による初心者のための決定木分析](https://qiita.com/3000manJPY/items/ef7495960f472ec14377)"
   ]
  },
  {
   "cell_type": "code",
   "execution_count": 27,
   "metadata": {},
   "outputs": [],
   "source": [
    "a = np.arange(100)\n",
    "b = 40 < a"
   ]
  },
  {
   "cell_type": "code",
   "execution_count": 44,
   "metadata": {},
   "outputs": [
    {
     "data": {
      "text/plain": [
       "array([ 0,  1,  2,  3,  4,  5,  6,  7,  8,  9, 10, 11, 12, 13, 14, 15, 16,\n",
       "       17, 18, 19, 20, 21, 22, 23, 24, 25, 26, 27, 28, 29, 30, 31, 32, 33,\n",
       "       34, 35, 36, 37, 38, 39, 40])"
      ]
     },
     "execution_count": 44,
     "metadata": {},
     "output_type": "execute_result"
    }
   ],
   "source": [
    "a[np.logical_not(b)]"
   ]
  },
  {
   "cell_type": "code",
   "execution_count": 123,
   "metadata": {},
   "outputs": [
    {
     "data": {
      "text/plain": [
       "0.25"
      ]
     },
     "execution_count": 123,
     "metadata": {},
     "output_type": "execute_result"
    }
   ],
   "source": [
    "(60/120)**2"
   ]
  },
  {
   "cell_type": "code",
   "execution_count": null,
   "metadata": {},
   "outputs": [],
   "source": []
  }
 ],
 "metadata": {
  "kernelspec": {
   "display_name": "Python 3",
   "language": "python",
   "name": "python3"
  },
  "language_info": {
   "codemirror_mode": {
    "name": "ipython",
    "version": 3
   },
   "file_extension": ".py",
   "mimetype": "text/x-python",
   "name": "python",
   "nbconvert_exporter": "python",
   "pygments_lexer": "ipython3",
   "version": "3.6.9"
  },
  "toc-autonumbering": true
 },
 "nbformat": 4,
 "nbformat_minor": 4
}
